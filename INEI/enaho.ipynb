{
 "cells": [
  {
   "cell_type": "code",
   "execution_count": 1,
   "metadata": {},
   "outputs": [],
   "source": [
    "from selenium import webdriver\n",
    "import time\n",
    "\n",
    "from selenium.webdriver.common.by import By\n",
    "\n",
    "INEI_URL = \"https://proyectos.inei.gob.pe/iinei/srienaho/Consulta_por_Encuesta.asp\"\n",
    "driver = webdriver.Chrome()\n",
    "driver.get(INEI_URL)"
   ]
  },
  {
   "cell_type": "code",
   "execution_count": 2,
   "metadata": {},
   "outputs": [],
   "source": [
    "driver.execute_script(\"Ingresar()\")"
   ]
  },
  {
   "cell_type": "code",
   "execution_count": 3,
   "metadata": {},
   "outputs": [],
   "source": [
    "driver.find_element(By.XPATH, '//*[@id=\"select2-cmbEncuesta0ID-container\"]').click()"
   ]
  },
  {
   "cell_type": "code",
   "execution_count": 4,
   "metadata": {},
   "outputs": [
    {
     "ename": "NoSuchElementException",
     "evalue": "Message: no such element: Unable to locate element: {\"method\":\"xpath\",\"selector\":\"//*[@id=\"select2-cmbEncuesta0ID-result-arxu-2\"]\"}\n  (Session info: chrome=128.0.6613.138); For documentation on this error, please visit: https://www.selenium.dev/documentation/webdriver/troubleshooting/errors#no-such-element-exception\nStacktrace:\n\tGetHandleVerifier [0x00007FF7ECC29412+29090]\n\t(No symbol) [0x00007FF7ECB9E239]\n\t(No symbol) [0x00007FF7ECA5B1DA]\n\t(No symbol) [0x00007FF7ECAAEFE7]\n\t(No symbol) [0x00007FF7ECAAF23C]\n\t(No symbol) [0x00007FF7ECAF97C7]\n\t(No symbol) [0x00007FF7ECAD672F]\n\t(No symbol) [0x00007FF7ECAF65A2]\n\t(No symbol) [0x00007FF7ECAD6493]\n\t(No symbol) [0x00007FF7ECAA09D1]\n\t(No symbol) [0x00007FF7ECAA1B31]\n\tGetHandleVerifier [0x00007FF7ECF4871D+3302573]\n\tGetHandleVerifier [0x00007FF7ECF94243+3612627]\n\tGetHandleVerifier [0x00007FF7ECF8A417+3572135]\n\tGetHandleVerifier [0x00007FF7ECCE5EB6+801862]\n\t(No symbol) [0x00007FF7ECBA945F]\n\t(No symbol) [0x00007FF7ECBA4FB4]\n\t(No symbol) [0x00007FF7ECBA5140]\n\t(No symbol) [0x00007FF7ECB9461F]\n\tBaseThreadInitThunk [0x00007FF8E3527374+20]\n\tRtlUserThreadStart [0x00007FF8E467CC91+33]\n",
     "output_type": "error",
     "traceback": [
      "\u001b[1;31m---------------------------------------------------------------------------\u001b[0m",
      "\u001b[1;31mNoSuchElementException\u001b[0m                    Traceback (most recent call last)",
      "Cell \u001b[1;32mIn[4], line 3\u001b[0m\n\u001b[0;32m      1\u001b[0m \u001b[38;5;66;03m# //*[@id=\"select2-cmbEncuesta0ID-result-jh2h-3\"]\u001b[39;00m\n\u001b[1;32m----> 3\u001b[0m \u001b[43mdriver\u001b[49m\u001b[38;5;241;43m.\u001b[39;49m\u001b[43mfind_element\u001b[49m\u001b[43m(\u001b[49m\u001b[43mBy\u001b[49m\u001b[38;5;241;43m.\u001b[39;49m\u001b[43mXPATH\u001b[49m\u001b[43m,\u001b[49m\u001b[43m \u001b[49m\u001b[38;5;124;43m'\u001b[39;49m\u001b[38;5;124;43m//*[@id=\u001b[39;49m\u001b[38;5;124;43m\"\u001b[39;49m\u001b[38;5;124;43mselect2-cmbEncuesta0ID-result-arxu-2\u001b[39;49m\u001b[38;5;124;43m\"\u001b[39;49m\u001b[38;5;124;43m]\u001b[39;49m\u001b[38;5;124;43m'\u001b[39;49m\u001b[43m)\u001b[49m\u001b[38;5;241m.\u001b[39mclick()\n",
      "File \u001b[1;32mc:\\Users\\Jhon\\AppData\\Local\\pypoetry\\Cache\\virtualenvs\\peru-inei-data-fwvhLWqX-py3.10\\lib\\site-packages\\selenium\\webdriver\\remote\\webdriver.py:748\u001b[0m, in \u001b[0;36mWebDriver.find_element\u001b[1;34m(self, by, value)\u001b[0m\n\u001b[0;32m    745\u001b[0m     by \u001b[38;5;241m=\u001b[39m By\u001b[38;5;241m.\u001b[39mCSS_SELECTOR\n\u001b[0;32m    746\u001b[0m     value \u001b[38;5;241m=\u001b[39m \u001b[38;5;124mf\u001b[39m\u001b[38;5;124m'\u001b[39m\u001b[38;5;124m[name=\u001b[39m\u001b[38;5;124m\"\u001b[39m\u001b[38;5;132;01m{\u001b[39;00mvalue\u001b[38;5;132;01m}\u001b[39;00m\u001b[38;5;124m\"\u001b[39m\u001b[38;5;124m]\u001b[39m\u001b[38;5;124m'\u001b[39m\n\u001b[1;32m--> 748\u001b[0m \u001b[38;5;28;01mreturn\u001b[39;00m \u001b[38;5;28;43mself\u001b[39;49m\u001b[38;5;241;43m.\u001b[39;49m\u001b[43mexecute\u001b[49m\u001b[43m(\u001b[49m\u001b[43mCommand\u001b[49m\u001b[38;5;241;43m.\u001b[39;49m\u001b[43mFIND_ELEMENT\u001b[49m\u001b[43m,\u001b[49m\u001b[43m \u001b[49m\u001b[43m{\u001b[49m\u001b[38;5;124;43m\"\u001b[39;49m\u001b[38;5;124;43musing\u001b[39;49m\u001b[38;5;124;43m\"\u001b[39;49m\u001b[43m:\u001b[49m\u001b[43m \u001b[49m\u001b[43mby\u001b[49m\u001b[43m,\u001b[49m\u001b[43m \u001b[49m\u001b[38;5;124;43m\"\u001b[39;49m\u001b[38;5;124;43mvalue\u001b[39;49m\u001b[38;5;124;43m\"\u001b[39;49m\u001b[43m:\u001b[49m\u001b[43m \u001b[49m\u001b[43mvalue\u001b[49m\u001b[43m}\u001b[49m\u001b[43m)\u001b[49m[\u001b[38;5;124m\"\u001b[39m\u001b[38;5;124mvalue\u001b[39m\u001b[38;5;124m\"\u001b[39m]\n",
      "File \u001b[1;32mc:\\Users\\Jhon\\AppData\\Local\\pypoetry\\Cache\\virtualenvs\\peru-inei-data-fwvhLWqX-py3.10\\lib\\site-packages\\selenium\\webdriver\\remote\\webdriver.py:354\u001b[0m, in \u001b[0;36mWebDriver.execute\u001b[1;34m(self, driver_command, params)\u001b[0m\n\u001b[0;32m    352\u001b[0m response \u001b[38;5;241m=\u001b[39m \u001b[38;5;28mself\u001b[39m\u001b[38;5;241m.\u001b[39mcommand_executor\u001b[38;5;241m.\u001b[39mexecute(driver_command, params)\n\u001b[0;32m    353\u001b[0m \u001b[38;5;28;01mif\u001b[39;00m response:\n\u001b[1;32m--> 354\u001b[0m     \u001b[38;5;28;43mself\u001b[39;49m\u001b[38;5;241;43m.\u001b[39;49m\u001b[43merror_handler\u001b[49m\u001b[38;5;241;43m.\u001b[39;49m\u001b[43mcheck_response\u001b[49m\u001b[43m(\u001b[49m\u001b[43mresponse\u001b[49m\u001b[43m)\u001b[49m\n\u001b[0;32m    355\u001b[0m     response[\u001b[38;5;124m\"\u001b[39m\u001b[38;5;124mvalue\u001b[39m\u001b[38;5;124m\"\u001b[39m] \u001b[38;5;241m=\u001b[39m \u001b[38;5;28mself\u001b[39m\u001b[38;5;241m.\u001b[39m_unwrap_value(response\u001b[38;5;241m.\u001b[39mget(\u001b[38;5;124m\"\u001b[39m\u001b[38;5;124mvalue\u001b[39m\u001b[38;5;124m\"\u001b[39m, \u001b[38;5;28;01mNone\u001b[39;00m))\n\u001b[0;32m    356\u001b[0m     \u001b[38;5;28;01mreturn\u001b[39;00m response\n",
      "File \u001b[1;32mc:\\Users\\Jhon\\AppData\\Local\\pypoetry\\Cache\\virtualenvs\\peru-inei-data-fwvhLWqX-py3.10\\lib\\site-packages\\selenium\\webdriver\\remote\\errorhandler.py:229\u001b[0m, in \u001b[0;36mErrorHandler.check_response\u001b[1;34m(self, response)\u001b[0m\n\u001b[0;32m    227\u001b[0m         alert_text \u001b[38;5;241m=\u001b[39m value[\u001b[38;5;124m\"\u001b[39m\u001b[38;5;124malert\u001b[39m\u001b[38;5;124m\"\u001b[39m]\u001b[38;5;241m.\u001b[39mget(\u001b[38;5;124m\"\u001b[39m\u001b[38;5;124mtext\u001b[39m\u001b[38;5;124m\"\u001b[39m)\n\u001b[0;32m    228\u001b[0m     \u001b[38;5;28;01mraise\u001b[39;00m exception_class(message, screen, stacktrace, alert_text)  \u001b[38;5;66;03m# type: ignore[call-arg]  # mypy is not smart enough here\u001b[39;00m\n\u001b[1;32m--> 229\u001b[0m \u001b[38;5;28;01mraise\u001b[39;00m exception_class(message, screen, stacktrace)\n",
      "\u001b[1;31mNoSuchElementException\u001b[0m: Message: no such element: Unable to locate element: {\"method\":\"xpath\",\"selector\":\"//*[@id=\"select2-cmbEncuesta0ID-result-arxu-2\"]\"}\n  (Session info: chrome=128.0.6613.138); For documentation on this error, please visit: https://www.selenium.dev/documentation/webdriver/troubleshooting/errors#no-such-element-exception\nStacktrace:\n\tGetHandleVerifier [0x00007FF7ECC29412+29090]\n\t(No symbol) [0x00007FF7ECB9E239]\n\t(No symbol) [0x00007FF7ECA5B1DA]\n\t(No symbol) [0x00007FF7ECAAEFE7]\n\t(No symbol) [0x00007FF7ECAAF23C]\n\t(No symbol) [0x00007FF7ECAF97C7]\n\t(No symbol) [0x00007FF7ECAD672F]\n\t(No symbol) [0x00007FF7ECAF65A2]\n\t(No symbol) [0x00007FF7ECAD6493]\n\t(No symbol) [0x00007FF7ECAA09D1]\n\t(No symbol) [0x00007FF7ECAA1B31]\n\tGetHandleVerifier [0x00007FF7ECF4871D+3302573]\n\tGetHandleVerifier [0x00007FF7ECF94243+3612627]\n\tGetHandleVerifier [0x00007FF7ECF8A417+3572135]\n\tGetHandleVerifier [0x00007FF7ECCE5EB6+801862]\n\t(No symbol) [0x00007FF7ECBA945F]\n\t(No symbol) [0x00007FF7ECBA4FB4]\n\t(No symbol) [0x00007FF7ECBA5140]\n\t(No symbol) [0x00007FF7ECB9461F]\n\tBaseThreadInitThunk [0x00007FF8E3527374+20]\n\tRtlUserThreadStart [0x00007FF8E467CC91+33]\n"
     ]
    }
   ],
   "source": [
    "# //*[@id=\"select2-cmbEncuesta0ID-result-jh2h-3\"]\n",
    "\n",
    "driver.find_element(By.XPATH, '//*[@id=\"select2-cmbEncuesta0ID-result-6mk8-2\"]').click()"
   ]
  },
  {
   "cell_type": "code",
   "execution_count": 6,
   "metadata": {},
   "outputs": [],
   "source": [
    "from selenium.webdriver.support.ui import Select"
   ]
  },
  {
   "cell_type": "code",
   "execution_count": null,
   "metadata": {},
   "outputs": [],
   "source": [
    "# options intermedios\n",
    "select_encuesta = Select(driver.find_element(By.NAME, \"cmbEncuestaN\"))\n",
    "select_encuesta.select_by_visible_text(\"Condiciones de Vida y Pobreza - ENAHO\")"
   ]
  },
  {
   "cell_type": "code",
   "execution_count": 8,
   "metadata": {},
   "outputs": [],
   "source": [
    "select_anno = Select(driver.find_element(By.NAME, \"cmbAnno\"))\n",
    "select_anno.select_by_value(\"2004\")\n",
    "select_trimestre = Select(driver.find_element(By.NAME, \"cmbTrimestre\"))\n",
    "select_trimestre.select_by_value(\"55\")"
   ]
  },
  {
   "cell_type": "code",
   "execution_count": 10,
   "metadata": {},
   "outputs": [],
   "source": [
    "table = driver.find_element(By.ID, \"divDetalle\").find_element(By.TAG_NAME, \"table\")\n",
    "\n",
    "# Extraer las filas de la tabla\n",
    "rows = table.find_elements(By.TAG_NAME, \"tr\")"
   ]
  },
  {
   "cell_type": "code",
   "execution_count": 11,
   "metadata": {},
   "outputs": [
    {
     "name": "stdout",
     "output_type": "stream",
     "text": [
      "  0     1    2    3                4   5   \\\n",
      "0  1  2022  184  855  EPEN – CIUDADES  76   \n",
      "\n",
      "                                                  6  7  8  9  10  \n",
      "0  Caracteristicas de los Miembros del Hogar - Em...              \n"
     ]
    }
   ],
   "source": [
    "data = []\n",
    "import pandas as pd\n",
    "\n",
    "for row in rows:\n",
    "    # Extraer todas las celdas (td o th)\n",
    "    cells = row.find_elements(By.TAG_NAME, \"td\")\n",
    "    # Si la fila contiene celdas\n",
    "    if len(cells) > 0:\n",
    "        # Agregar los textos de las celdas a la lista de datos\n",
    "        data.append([cell.text for cell in cells])\n",
    "\n",
    "# Convertir la lista en un DataFrame de pandas\n",
    "df = pd.DataFrame(data)\n",
    "\n",
    "# Mostrar el DataFrame\n",
    "print(df)"
   ]
  },
  {
   "cell_type": "code",
   "execution_count": 12,
   "metadata": {},
   "outputs": [
    {
     "name": "stdout",
     "output_type": "stream",
     "text": [
      "[\"javascript:VerPreguntas('855','76','EPEN+%96+CIUDADES','Caracteristicas+de+los+Miembros+del+Hogar+%2D+Empleo+e+Ingresos')\", \"javascript:VerFicha('855','76')\", 'https://proyectos.inei.gob.pe/iinei/srienaho/descarga/SPSS/855-Modulo76.zip', 'https://proyectos.inei.gob.pe/iinei/srienaho/descarga/STATA/855-Modulo76.zip', 'https://proyectos.inei.gob.pe/iinei/srienaho/descarga/CSV/855-Modulo76.zip']\n"
     ]
    }
   ],
   "source": [
    "from selenium.webdriver.common.by import By\n",
    "\n",
    "# Encuentra la tabla (esto asume que ya has localizado la tabla)\n",
    "table = driver.find_element(By.ID, \"divDetalle\").find_element(By.TAG_NAME, \"table\")\n",
    "\n",
    "# Encuentra todas las celdas (td) que contienen enlaces (a)\n",
    "cells_with_links = table.find_elements(By.XPATH, \".//td/a\")\n",
    "\n",
    "# Lista para almacenar los enlaces (href)\n",
    "links = []\n",
    "\n",
    "# Iterar sobre cada celda que contiene un enlace y extraer el href\n",
    "for cell in cells_with_links:\n",
    "    href = cell.get_attribute(\"href\")\n",
    "    if href:\n",
    "        links.append(href)\n",
    "\n",
    "# Imprimir los enlaces extraídos\n",
    "print(links)\n"
   ]
  },
  {
   "cell_type": "code",
   "execution_count": 13,
   "metadata": {},
   "outputs": [],
   "source": [
    "# %%timeit\n",
    "from bs4 import BeautifulSoup\n",
    "import pandas as pd\n",
    "from io import StringIO\n",
    "\n",
    "# Extrae el HTML de la tabla usando Selenium\n",
    "table_html = driver.find_element(By.ID, \"divDetalle\").get_attribute('outerHTML')\n",
    "\n",
    "# Usar BeautifulSoup para procesar el HTML\n",
    "soup = BeautifulSoup(table_html, 'html.parser')\n",
    "\n",
    "# Encontrar la tabla en el HTML\n",
    "table = soup.find('table')\n",
    "\n",
    "# Convertir la tabla en un DataFrame de pandas\n",
    "df = pd.read_html( StringIO(str(table)))[0]\n",
    "\n",
    "# Mostrar el DataFrame\n",
    "n = len(df)\n"
   ]
  },
  {
   "cell_type": "code",
   "execution_count": 14,
   "metadata": {},
   "outputs": [
    {
     "data": {
      "text/plain": [
       "\"javascript:VerPreguntas('855','76','EPEN+%96+CIUDADES','Caracteristicas+de+los+Miembros+del+Hogar+%2D+Empleo+e+Ingresos')\""
      ]
     },
     "execution_count": 14,
     "metadata": {},
     "output_type": "execute_result"
    }
   ],
   "source": [
    "links[0]"
   ]
  },
  {
   "cell_type": "code",
   "execution_count": 15,
   "metadata": {},
   "outputs": [
    {
     "data": {
      "text/plain": [
       "'906asdlf'"
      ]
     },
     "execution_count": 15,
     "metadata": {},
     "output_type": "execute_result"
    }
   ],
   "source": [
    "import re\n",
    "\n",
    "text = \"javascript:VerPreguntas('906','01','Condiciones+de+Vida+y+Pobreza+%2D+ENAHO','Caracter%EDsticas+de+la+Vivienda+y+del+Hogar')\"\n",
    "match = re.search(r'\\(([^)]+)\\)', text)\n",
    "\n",
    "content = match.group(1)\n",
    "content.replace(\"'\", \"\").split(\",\")[0] + \"asdlf\""
   ]
  },
  {
   "cell_type": "code",
   "execution_count": 16,
   "metadata": {},
   "outputs": [
    {
     "name": "stdout",
     "output_type": "stream",
     "text": [
      "VerPreguntas\n"
     ]
    }
   ],
   "source": [
    "import re\n",
    "\n",
    "text = \"javascript:VerPreguntas('906','01','Condiciones+de+Vida+y+Pobreza+%2D+ENAHO','Caracter%EDsticas+de+la+Vivienda+y+del+Hogar')\"\n",
    "match = re.search(r'javascript:(.*?)\\(', text)\n",
    "if match:\n",
    "    content = match.group(1)\n",
    "    print(content)\n"
   ]
  },
  {
   "cell_type": "code",
   "execution_count": 17,
   "metadata": {},
   "outputs": [
    {
     "data": {
      "text/html": [
       "<div>\n",
       "<style scoped>\n",
       "    .dataframe tbody tr th:only-of-type {\n",
       "        vertical-align: middle;\n",
       "    }\n",
       "\n",
       "    .dataframe tbody tr th {\n",
       "        vertical-align: top;\n",
       "    }\n",
       "\n",
       "    .dataframe thead th {\n",
       "        text-align: right;\n",
       "    }\n",
       "</style>\n",
       "<table border=\"1\" class=\"dataframe\">\n",
       "  <thead>\n",
       "    <tr style=\"text-align: right;\">\n",
       "      <th></th>\n",
       "      <th>0</th>\n",
       "      <th>1</th>\n",
       "      <th>2</th>\n",
       "      <th>3</th>\n",
       "      <th>4</th>\n",
       "    </tr>\n",
       "  </thead>\n",
       "  <tbody>\n",
       "    <tr>\n",
       "      <th>0</th>\n",
       "      <td>javascript:VerPreguntas('855','76','EPEN+%96+C...</td>\n",
       "      <td>javascript:VerFicha('855','76')</td>\n",
       "      <td>https://proyectos.inei.gob.pe/iinei/srienaho/d...</td>\n",
       "      <td>https://proyectos.inei.gob.pe/iinei/srienaho/d...</td>\n",
       "      <td>https://proyectos.inei.gob.pe/iinei/srienaho/d...</td>\n",
       "    </tr>\n",
       "  </tbody>\n",
       "</table>\n",
       "</div>"
      ],
      "text/plain": [
       "                                                   0  \\\n",
       "0  javascript:VerPreguntas('855','76','EPEN+%96+C...   \n",
       "\n",
       "                                 1  \\\n",
       "0  javascript:VerFicha('855','76')   \n",
       "\n",
       "                                                   2  \\\n",
       "0  https://proyectos.inei.gob.pe/iinei/srienaho/d...   \n",
       "\n",
       "                                                   3  \\\n",
       "0  https://proyectos.inei.gob.pe/iinei/srienaho/d...   \n",
       "\n",
       "                                                   4  \n",
       "0  https://proyectos.inei.gob.pe/iinei/srienaho/d...  "
      ]
     },
     "execution_count": 17,
     "metadata": {},
     "output_type": "execute_result"
    }
   ],
   "source": [
    "import numpy as np\n",
    "pd.DataFrame(np.reshape(links, (n, int(len(links) / n))))"
   ]
  },
  {
   "cell_type": "code",
   "execution_count": null,
   "metadata": {},
   "outputs": [
    {
     "data": {
      "text/plain": [
       "(150, 30)"
      ]
     },
     "execution_count": 49,
     "metadata": {},
     "output_type": "execute_result"
    }
   ],
   "source": [
    "len(links), n"
   ]
  }
 ],
 "metadata": {
  "kernelspec": {
   "display_name": "peru-inei-data-fwvhLWqX-py3.10",
   "language": "python",
   "name": "python3"
  },
  "language_info": {
   "codemirror_mode": {
    "name": "ipython",
    "version": 3
   },
   "file_extension": ".py",
   "mimetype": "text/x-python",
   "name": "python",
   "nbconvert_exporter": "python",
   "pygments_lexer": "ipython3",
   "version": "3.10.9"
  }
 },
 "nbformat": 4,
 "nbformat_minor": 2
}
